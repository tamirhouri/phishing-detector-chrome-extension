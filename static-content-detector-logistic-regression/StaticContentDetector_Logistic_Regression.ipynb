{
  "nbformat": 4,
  "nbformat_minor": 0,
  "metadata": {
    "colab": {
      "provenance": [],
      "include_colab_link": true
    },
    "kernelspec": {
      "name": "python3",
      "display_name": "Python 3"
    },
    "language_info": {
      "name": "python"
    }
  },
  "cells": [
    {
      "cell_type": "markdown",
      "metadata": {
        "id": "view-in-github",
        "colab_type": "text"
      },
      "source": [
        "<a href=\"https://colab.research.google.com/github/tamirhouri/phishing-detector-chrome-extension/blob/main/static-content-detector-logistic-regression/StaticContentDetector_Logistic_Regression.ipynb\" target=\"_parent\"><img src=\"https://colab.research.google.com/assets/colab-badge.svg\" alt=\"Open In Colab\"/></a>"
      ]
    },
    {
      "cell_type": "code",
      "execution_count": 1,
      "metadata": {
        "id": "8IpInmv2WGB0"
      },
      "outputs": [],
      "source": [
        "import json\n",
        "import csv\n",
        "\n",
        "def extract_static_features_to_csv(json_path, csv_path):\n",
        "    with open(json_path, 'r', encoding='utf-8') as infile:\n",
        "        data = json.load(infile)\n",
        "\n",
        "    with open(csv_path, 'w', newline='', encoding='utf-8') as csvfile:\n",
        "        writer = csv.writer(csvfile)\n",
        "        header = [f\"feature_{i}\" for i in range(6)] + [\"label\"]\n",
        "        writer.writerow(header)\n",
        "\n",
        "        for entry in data:\n",
        "            features = entry.get(\"staticContentFeatures\", [0]*6)\n",
        "            label = entry.get(\"label\", \"Error\")\n",
        "            writer.writerow(features + [label])\n",
        "\n",
        "# Usage\n",
        "json_file_path = \"/content/results.json\"\n",
        "csv_output_path = \"content_features_regression.csv\"\n",
        "extract_static_features_to_csv(json_file_path, csv_output_path)\n"
      ]
    },
    {
      "cell_type": "code",
      "source": [
        "import pandas as pd\n",
        "from sklearn.linear_model import LogisticRegression\n",
        "from sklearn.ensemble import RandomForestClassifier\n",
        "from sklearn.model_selection import cross_val_score\n",
        "\n",
        "df = pd.read_csv(\"content_features_regression.csv\")\n",
        "# remove rows with label\n",
        "df = df[df['label'] != 'Error']\n",
        "# map labels to 0 and 1\n",
        "df['label'] = df['label'].map({'phishing': 1, 'benign': 0})\n",
        "X = df[[f\"feature_{i}\" for i in range(0,6)]]\n",
        "y = df[\"label\"]\n",
        "\n",
        "y.value_counts()"
      ],
      "metadata": {
        "id": "W2axgNRvQgQx",
        "colab": {
          "base_uri": "https://localhost:8080/",
          "height": 178
        },
        "outputId": "e7c04007-5418-40c9-f0ee-d4498c357c97"
      },
      "execution_count": 3,
      "outputs": [
        {
          "output_type": "execute_result",
          "data": {
            "text/plain": [
              "label\n",
              "0    5847\n",
              "1    3441\n",
              "Name: count, dtype: int64"
            ],
            "text/html": [
              "<div>\n",
              "<style scoped>\n",
              "    .dataframe tbody tr th:only-of-type {\n",
              "        vertical-align: middle;\n",
              "    }\n",
              "\n",
              "    .dataframe tbody tr th {\n",
              "        vertical-align: top;\n",
              "    }\n",
              "\n",
              "    .dataframe thead th {\n",
              "        text-align: right;\n",
              "    }\n",
              "</style>\n",
              "<table border=\"1\" class=\"dataframe\">\n",
              "  <thead>\n",
              "    <tr style=\"text-align: right;\">\n",
              "      <th></th>\n",
              "      <th>count</th>\n",
              "    </tr>\n",
              "    <tr>\n",
              "      <th>label</th>\n",
              "      <th></th>\n",
              "    </tr>\n",
              "  </thead>\n",
              "  <tbody>\n",
              "    <tr>\n",
              "      <th>0</th>\n",
              "      <td>5847</td>\n",
              "    </tr>\n",
              "    <tr>\n",
              "      <th>1</th>\n",
              "      <td>3441</td>\n",
              "    </tr>\n",
              "  </tbody>\n",
              "</table>\n",
              "</div><br><label><b>dtype:</b> int64</label>"
            ]
          },
          "metadata": {},
          "execution_count": 3
        }
      ]
    },
    {
      "cell_type": "code",
      "source": [
        "# 2a. Logistic Regression → learns positive/negative weights\n",
        "lr = LogisticRegression()\n",
        "lr.fit(X, y)\n",
        "print(\"LR bias:\", float(lr.intercept_[0]))\n",
        "print(\"LR weights:\", lr.coef_[0].tolist())\n",
        "\n",
        "# 2b. Random Forest → gives you feature importances\n",
        "rf = RandomForestClassifier(n_estimators=200, random_state=42)\n",
        "rf.fit(X, y)\n",
        "print(\"RF importances:\", rf.feature_importances_)\n",
        "\n",
        "# 2c. Estimate overall accuracy\n",
        "print(\"LR CV accuracy:\", cross_val_score(lr, X, y, cv=5).mean())\n",
        "print(\"RF CV accuracy:\", cross_val_score(rf, X, y, cv=5).mean())\n"
      ],
      "metadata": {
        "colab": {
          "base_uri": "https://localhost:8080/"
        },
        "id": "e8K94V05REuz",
        "outputId": "bf37ccd7-e868-453e-979a-1932a19e052c"
      },
      "execution_count": 4,
      "outputs": [
        {
          "output_type": "stream",
          "name": "stdout",
          "text": [
            "LR bias: -2.1980296121085106\n",
            "LR weights: [-0.9980825058085083, 2.6840079092211897, -0.05051873473859611, 3.1778866084080843, -0.6635635780569809, -0.00870018423531527]\n",
            "RF importances: [0.09969173 0.23818796 0.08363802 0.517191   0.04098902 0.02030227]\n",
            "LR CV accuracy: 0.7848822104474211\n",
            "RF CV accuracy: 0.8391464988902435\n"
          ]
        }
      ]
    },
    {
      "cell_type": "code",
      "source": [
        "import json, numpy as np\n",
        "\n",
        "weights = lr.coef_[0].tolist()        # 6 numbers\n",
        "bias    = float(lr.intercept_[0])     # scalar\n",
        "\n",
        "with open(\"static-content-detector-lr.json\", \"w\") as f:\n",
        "    json.dump({\"bias\": bias, \"weights\": weights}, f, indent=2)"
      ],
      "metadata": {
        "id": "sqfwRDVLycYy"
      },
      "execution_count": 9,
      "outputs": []
    },
    {
      "cell_type": "code",
      "source": [
        "from sklearn.metrics import precision_recall_curve\n",
        "p, r, th = precision_recall_curve(y, lr.predict_proba(X)[:,1])\n",
        "\n",
        "idx = np.where(r >= 0.95)[0][0]\n",
        "best_thresh = th[idx]\n",
        "\n",
        "best_thresh"
      ],
      "metadata": {
        "id": "NBpBIG9s6YOY"
      },
      "execution_count": null,
      "outputs": []
    }
  ]
}