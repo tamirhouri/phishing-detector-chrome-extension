{
  "cells": [
    {
      "cell_type": "markdown",
      "metadata": {
        "id": "t0LgYpLQkNOc"
      },
      "source": [
        "# URL Phishing Detector - Deep Learning"
      ]
    },
    {
      "cell_type": "markdown",
      "metadata": {
        "id": "iPuvU7O9klIE"
      },
      "source": [
        "## Prerequisite"
      ]
    },
    {
      "cell_type": "markdown",
      "metadata": {
        "id": "EExKf7Gqk2a7"
      },
      "source": [
        "### Install Dependencies"
      ]
    },
    {
      "cell_type": "code",
      "execution_count": 1,
      "metadata": {
        "colab": {
          "base_uri": "https://localhost:8080/"
        },
        "id": "9HwlSPm2QqSw",
        "outputId": "e861bba3-961d-431f-dabd-3a885612cac3"
      },
      "outputs": [
        {
          "name": "stdout",
          "output_type": "stream",
          "text": [
            "\u001b[?25l   \u001b[90m━━━━━━━━━━━━━━━━━━━━━━━━━━━━━━━━━━━━━━━━\u001b[0m \u001b[32m0.0/89.1 kB\u001b[0m \u001b[31m?\u001b[0m eta \u001b[36m-:--:--\u001b[0m\r\u001b[2K   \u001b[91m━━━━━━━━━━━━━━━━━━━━━━━━━━━━━━━━━━━━\u001b[0m\u001b[91m╸\u001b[0m\u001b[90m━━━\u001b[0m \u001b[32m81.9/89.1 kB\u001b[0m \u001b[31m78.1 MB/s\u001b[0m eta \u001b[36m0:00:01\u001b[0m\r\u001b[2K   \u001b[90m━━━━━━━━━━━━━━━━━━━━━━━━━━━━━━━━━━━━━━━━\u001b[0m \u001b[32m89.1/89.1 kB\u001b[0m \u001b[31m1.9 MB/s\u001b[0m eta \u001b[36m0:00:00\u001b[0m\n",
            "\u001b[?25h\u001b[?25l   \u001b[90m━━━━━━━━━━━━━━━━━━━━━━━━━━━━━━━━━━━━━━━━\u001b[0m \u001b[32m0.0/53.0 kB\u001b[0m \u001b[31m?\u001b[0m eta \u001b[36m-:--:--\u001b[0m\r\u001b[2K   \u001b[90m━━━━━━━━━━━━━━━━━━━━━━━━━━━━━━━━━━━━━━━━\u001b[0m \u001b[32m53.0/53.0 kB\u001b[0m \u001b[31m2.8 MB/s\u001b[0m eta \u001b[36m0:00:00\u001b[0m\n",
            "\u001b[?25h\u001b[31mERROR: pip's dependency resolver does not currently take into account all the packages that are installed. This behaviour is the source of the following dependency conflicts.\n",
            "google-cloud-bigquery 3.31.0 requires packaging>=24.2.0, but you have packaging 23.2 which is incompatible.\u001b[0m\u001b[31m\n",
            "\u001b[0m"
          ]
        }
      ],
      "source": [
        "!pip install tensorflow tensorflowjs pandas scikit-learn --quiet"
      ]
    },
    {
      "cell_type": "markdown",
      "metadata": {
        "id": "8WpUk4nok6q-"
      },
      "source": [
        "### Import Libraries"
      ]
    },
    {
      "cell_type": "code",
      "execution_count": null,
      "metadata": {
        "id": "VflW6VSnQFMf"
      },
      "outputs": [],
      "source": [
        "import pandas as pd\n",
        "import numpy as np\n",
        "import tensorflow as tf\n",
        "from sklearn.model_selection import train_test_split\n",
        "from sklearn.preprocessing import StandardScaler\n",
        "import kagglehub\n",
        "import shutil\n",
        "import re\n",
        "from urllib.parse import urlparse\n",
        "import ipaddress\n",
        "import matplotlib.pyplot as plt\n",
        "from sklearn.metrics import classification_report\n",
        "import seaborn as sns\n",
        "import matplotlib.pyplot as plt\n",
        "import glob"
      ]
    },
    {
      "cell_type": "markdown",
      "metadata": {
        "id": "8qnwwEQZlGLb"
      },
      "source": [
        "## Utils"
      ]
    },
    {
      "cell_type": "markdown",
      "metadata": {
        "id": "dLJDyCQklBW6"
      },
      "source": [
        "### URL Feature Extractor"
      ]
    },
    {
      "cell_type": "code",
      "execution_count": null,
      "metadata": {
        "id": "_a_PhNIDbQGN"
      },
      "outputs": [],
      "source": [
        "class UrlFeaturesExtractor:\n",
        "    SHORTENING_SERVICES = {\n",
        "        \"bit.ly\", \"tinyurl.com\", \"goo.gl\", \"ow.ly\", \"t.co\", \"is.gd\", \"bitly.com\",\n",
        "        \"vzturl.com\", \"qr.net\", \"1url.com\", \"tweez.me\", \"v.gd\", \"tr.im\", \"link.zip.net\",\n",
        "        \"filoops.info\"\n",
        "    }\n",
        "\n",
        "    SUSPICIOUS_WORDS = {\n",
        "        \"login\", \"verify\", \"account\", \"password\", \"bank\", \"secure\",\n",
        "        \"free\", \"lucky\", \"service\", \"bonus\", \"ebayisapi\", \"webscr\",\n",
        "        \"paypal\", \"signin\", \"update\"\n",
        "    }\n",
        "\n",
        "    UNCOMMON_TLDS = {'.tk', '.ml', '.ga', '.cf', '.gq'}\n",
        "\n",
        "    BRANDS = {\n",
        "        'paypal', 'visa', 'mastercard', 'stripe', 'square', 'bankofamerica',\n",
        "        'google', 'gmail', 'youtube', 'android', 'chrome', 'facebook',\n",
        "        'instagram', 'whatsapp', 'meta', 'apple', 'icloud', 'mac', 'itunes',\n",
        "        'amazon', 'aws', 'microsoft', 'office365', 'outlook', 'live', 'onedrive',\n",
        "        'windows', 'github', 'gitlab', 'bitbucket', 'dropbox',\n",
        "        'twitter', 'x.com', 'tiktok', 'snapchat', 'linkedin', 'slack', 'zoom',\n",
        "        'netflix', 'hulu', 'disney', 'spotify', 'steam', 'epicgames',\n",
        "        'ebay', 'etsy', 'shopify', 'alibaba', 'yahoo', 'proton', 'adobe'\n",
        "    }\n",
        "\n",
        "    PUBLIC_SUFFIXES = {\n",
        "        'co.uk', 'ac.uk', 'gov.uk', 'org.uk',\n",
        "        'co.il', 'org.il', 'ac.il', 'gov.il',\n",
        "        'co.in', 'org.in', 'ac.in', 'gov.in',\n",
        "        'com.au', 'gov.au', 'edu.au',\n",
        "        'com.cn', 'gov.cn', 'edu.cn', 'net.cn',\n",
        "        'co.za', 'org.za', 'gov.za'\n",
        "    }\n",
        "\n",
        "    def __init__(self, url: str):\n",
        "        self.url = url\n",
        "        self.parsed = urlparse(url if url.startswith(\"http\") else \"http://\" + url)\n",
        "\n",
        "    def get_length(self) -> int:\n",
        "        return len(self.url)\n",
        "\n",
        "    def subdomain_length(self) -> int:\n",
        "        \"\"\"\n",
        "        Returns the total length of all domain components in the hostname,\n",
        "        excluding 'www' at the beginning and the top-level domain at the end.\n",
        "        E.g., 'www.login.secure.example.com' → 'login', 'secure', 'example' → summed length.\n",
        "        \"\"\"\n",
        "        if self.has_ip_address():\n",
        "            return 0\n",
        "\n",
        "        hostname = (self.parsed.hostname or '').lower()\n",
        "        parts = hostname.split('.')\n",
        "\n",
        "        if parts and parts[0] == 'www':\n",
        "            parts = parts[1:]\n",
        "\n",
        "        if len(parts) < 1:\n",
        "            return 0\n",
        "\n",
        "        domain_parts = parts[:-1]\n",
        "\n",
        "        return sum(len(part) for part in domain_parts)\n",
        "\n",
        "    def main_domain_length(self) -> int:\n",
        "        \"\"\"\n",
        "        Returns the character length of the main domain (SLD),\n",
        "        accounting for multi-part public suffixes (like 'co.uk', 'co.il').\n",
        "        \"\"\"\n",
        "        hostname = (self.parsed.hostname or '').lower()\n",
        "        parts = hostname.split('.')\n",
        "\n",
        "        if parts and parts[0] == 'www':\n",
        "            parts = parts[1:]\n",
        "\n",
        "        domain_index = len(parts) - 2\n",
        "        for i in range(len(parts) - 1):\n",
        "            possible_suffix = \".\".join(parts[i:])\n",
        "            if possible_suffix in self.PUBLIC_SUFFIXES:\n",
        "                domain_index = i - 1\n",
        "                break\n",
        "\n",
        "        if domain_index >= 0:\n",
        "            return len(parts[domain_index])\n",
        "        return 0\n",
        "\n",
        "\n",
        "    def dot_count(self) -> int:\n",
        "        return self.url.count('.')\n",
        "\n",
        "    def hyphen_count(self) -> int:\n",
        "        return self.url.count('-')\n",
        "\n",
        "    def path_length(self) -> int:\n",
        "        return len(self.parsed.path)\n",
        "\n",
        "    def is_https(self) -> int:\n",
        "        return int(self.url.startswith('https://'))\n",
        "\n",
        "    def query_length(self) -> int:\n",
        "        return len(self.parsed.query)\n",
        "\n",
        "    def has_redirection(self) -> int:\n",
        "        stripped_url = self.url.replace('http://', '').replace('https://', '', 1)\n",
        "        return int('//' in stripped_url)\n",
        "\n",
        "    def url_path_depth(self) -> int:\n",
        "        return sum(1 for part in self.parsed.path.split('/') if part)\n",
        "\n",
        "    def digit_count(self) -> int:\n",
        "        return sum(char.isdigit() for char in self.url)\n",
        "\n",
        "    def token_count(self) -> int:\n",
        "        tokens = re.split(r'[\\/\\-\\.\\=\\?\\&\\%\\_\\@]', self.url)\n",
        "        return len([t for t in tokens if t])\n",
        "\n",
        "    def encoded_char_count(self) -> int:\n",
        "        return self.url.count('%')\n",
        "\n",
        "    def has_ip_address(self) -> int:\n",
        "        try:\n",
        "            ipaddress.ip_address(self.parsed.hostname)\n",
        "            return 1\n",
        "        except (ValueError, TypeError):\n",
        "            return 0\n",
        "\n",
        "    def subdomain_count(self) -> int:\n",
        "        if not self.parsed.hostname or self.has_ip_address():\n",
        "            return 0\n",
        "        return max(0, len(self.parsed.hostname.split('.')) - 2)\n",
        "\n",
        "    def uncommon_tld(self) -> int:\n",
        "        if not self.parsed.hostname:\n",
        "            return 0\n",
        "        return int(any(self.parsed.hostname.endswith(tld) for tld in self.UNCOMMON_TLDS))\n",
        "\n",
        "    def has_shortening_service(self) -> int:\n",
        "        if not self.parsed.hostname:\n",
        "            return 0\n",
        "        host = self.parsed.hostname.lower()\n",
        "        return int(host in self.SHORTENING_SERVICES or any(host.endswith('.' + svc) for svc in self.SHORTENING_SERVICES))\n",
        "\n",
        "    def has_suspicious_words(self) -> int:\n",
        "        return int(any(word in self.url.lower() for word in self.SUSPICIOUS_WORDS))\n",
        "\n",
        "    def contains_brand_name(self) -> int:\n",
        "        hostname = (self.parsed.hostname or '').lower()\n",
        "        parts = hostname.split('.')\n",
        "        if len(parts) >= 2:\n",
        "            sld = parts[-2]\n",
        "            return int(sld in self.BRANDS)\n",
        "        return 0\n",
        "\n",
        "    def extract_all(self) -> list[float]:\n",
        "        features = [\n",
        "            self.get_length(),\n",
        "            self.subdomain_length(),\n",
        "            self.main_domain_length(),\n",
        "            self.dot_count(),\n",
        "            self.hyphen_count(),\n",
        "            self.path_length(),\n",
        "            self.is_https(),\n",
        "            # self.query_length(),\n",
        "            # self.has_redirection(),\n",
        "            self.url_path_depth(),\n",
        "            self.digit_count(),\n",
        "            self.token_count(),\n",
        "            self.encoded_char_count(),\n",
        "            self.has_shortening_service(),\n",
        "            # self.has_ip_address(),\n",
        "            self.subdomain_count(),\n",
        "            self.uncommon_tld(),\n",
        "            self.has_suspicious_words(),\n",
        "            self.contains_brand_name(),\n",
        "        ]\n",
        "        return [float(f) for f in features]\n"
      ]
    },
    {
      "cell_type": "markdown",
      "metadata": {
        "id": "NbUeItRO0DTj"
      },
      "source": [
        "# Data Processing"
      ]
    },
    {
      "cell_type": "code",
      "execution_count": null,
      "metadata": {
        "id": "9TzVDsTZxYp0"
      },
      "outputs": [],
      "source": [
        "def build_dataset(df):\n",
        "    X = np.array([UrlFeaturesExtractor(url).extract_all() for url in df['url']])\n",
        "    y = df['status'].values.astype('int64')\n",
        "    return X, y"
      ]
    },
    {
      "cell_type": "markdown",
      "metadata": {
        "id": "i5hsLXM9ipJM"
      },
      "source": [
        "## Dataset Preprocessing"
      ]
    },
    {
      "cell_type": "markdown",
      "metadata": {
        "id": "xH-B6tG1iwgj"
      },
      "source": [
        "## Loading"
      ]
    },
    {
      "cell_type": "code",
      "execution_count": null,
      "metadata": {
        "colab": {
          "base_uri": "https://localhost:8080/",
          "height": 223
        },
        "id": "-K9cykV0jH93",
        "outputId": "42c3423f-3175-4210-e17b-124dc6265009"
      },
      "outputs": [
        {
          "name": "stdout",
          "output_type": "stream",
          "text": [
            "Found 35 parts → combined df has 10400000 rows × 3 cols\n"
          ]
        },
        {
          "data": {
            "application/vnd.google.colaboratory.intrinsic+json": {
              "type": "dataframe",
              "variable_name": "df_data_5"
            },
            "text/html": [
              "\n",
              "  <div id=\"df-70ab036b-b6bd-42d2-a58f-6beec3113fbf\" class=\"colab-df-container\">\n",
              "    <div>\n",
              "<style scoped>\n",
              "    .dataframe tbody tr th:only-of-type {\n",
              "        vertical-align: middle;\n",
              "    }\n",
              "\n",
              "    .dataframe tbody tr th {\n",
              "        vertical-align: top;\n",
              "    }\n",
              "\n",
              "    .dataframe thead th {\n",
              "        text-align: right;\n",
              "    }\n",
              "</style>\n",
              "<table border=\"1\" class=\"dataframe\">\n",
              "  <thead>\n",
              "    <tr style=\"text-align: right;\">\n",
              "      <th></th>\n",
              "      <th>url</th>\n",
              "      <th>label</th>\n",
              "      <th>first_seen</th>\n",
              "    </tr>\n",
              "  </thead>\n",
              "  <tbody>\n",
              "    <tr>\n",
              "      <th>0</th>\n",
              "      <td>http://babearchives.com</td>\n",
              "      <td>benign</td>\n",
              "      <td>2019-02-11 22:52:00</td>\n",
              "    </tr>\n",
              "    <tr>\n",
              "      <th>1</th>\n",
              "      <td>http://timeline.antunes.dev</td>\n",
              "      <td>benign</td>\n",
              "      <td>2021-09-29 14:54:27</td>\n",
              "    </tr>\n",
              "    <tr>\n",
              "      <th>2</th>\n",
              "      <td>http://3md6bdtvo62lvedxjxiu7f2jkzbwab.1qw2es2z...</td>\n",
              "      <td>phishing</td>\n",
              "      <td>2022-08-07 07:30:11</td>\n",
              "    </tr>\n",
              "    <tr>\n",
              "      <th>3</th>\n",
              "      <td>https://www36.55.56.89.30.50.26.92.68.80.36.64...</td>\n",
              "      <td>phishing</td>\n",
              "      <td>2021-11-20 16:51:02</td>\n",
              "    </tr>\n",
              "    <tr>\n",
              "      <th>4</th>\n",
              "      <td>http://271h0ir.xcoysf.cn/adidas-me/css</td>\n",
              "      <td>phishing</td>\n",
              "      <td>2021-07-01 13:44:19</td>\n",
              "    </tr>\n",
              "  </tbody>\n",
              "</table>\n",
              "</div>\n",
              "    <div class=\"colab-df-buttons\">\n",
              "\n",
              "  <div class=\"colab-df-container\">\n",
              "    <button class=\"colab-df-convert\" onclick=\"convertToInteractive('df-70ab036b-b6bd-42d2-a58f-6beec3113fbf')\"\n",
              "            title=\"Convert this dataframe to an interactive table.\"\n",
              "            style=\"display:none;\">\n",
              "\n",
              "  <svg xmlns=\"http://www.w3.org/2000/svg\" height=\"24px\" viewBox=\"0 -960 960 960\">\n",
              "    <path d=\"M120-120v-720h720v720H120Zm60-500h600v-160H180v160Zm220 220h160v-160H400v160Zm0 220h160v-160H400v160ZM180-400h160v-160H180v160Zm440 0h160v-160H620v160ZM180-180h160v-160H180v160Zm440 0h160v-160H620v160Z\"/>\n",
              "  </svg>\n",
              "    </button>\n",
              "\n",
              "  <style>\n",
              "    .colab-df-container {\n",
              "      display:flex;\n",
              "      gap: 12px;\n",
              "    }\n",
              "\n",
              "    .colab-df-convert {\n",
              "      background-color: #E8F0FE;\n",
              "      border: none;\n",
              "      border-radius: 50%;\n",
              "      cursor: pointer;\n",
              "      display: none;\n",
              "      fill: #1967D2;\n",
              "      height: 32px;\n",
              "      padding: 0 0 0 0;\n",
              "      width: 32px;\n",
              "    }\n",
              "\n",
              "    .colab-df-convert:hover {\n",
              "      background-color: #E2EBFA;\n",
              "      box-shadow: 0px 1px 2px rgba(60, 64, 67, 0.3), 0px 1px 3px 1px rgba(60, 64, 67, 0.15);\n",
              "      fill: #174EA6;\n",
              "    }\n",
              "\n",
              "    .colab-df-buttons div {\n",
              "      margin-bottom: 4px;\n",
              "    }\n",
              "\n",
              "    [theme=dark] .colab-df-convert {\n",
              "      background-color: #3B4455;\n",
              "      fill: #D2E3FC;\n",
              "    }\n",
              "\n",
              "    [theme=dark] .colab-df-convert:hover {\n",
              "      background-color: #434B5C;\n",
              "      box-shadow: 0px 1px 3px 1px rgba(0, 0, 0, 0.15);\n",
              "      filter: drop-shadow(0px 1px 2px rgba(0, 0, 0, 0.3));\n",
              "      fill: #FFFFFF;\n",
              "    }\n",
              "  </style>\n",
              "\n",
              "    <script>\n",
              "      const buttonEl =\n",
              "        document.querySelector('#df-70ab036b-b6bd-42d2-a58f-6beec3113fbf button.colab-df-convert');\n",
              "      buttonEl.style.display =\n",
              "        google.colab.kernel.accessAllowed ? 'block' : 'none';\n",
              "\n",
              "      async function convertToInteractive(key) {\n",
              "        const element = document.querySelector('#df-70ab036b-b6bd-42d2-a58f-6beec3113fbf');\n",
              "        const dataTable =\n",
              "          await google.colab.kernel.invokeFunction('convertToInteractive',\n",
              "                                                    [key], {});\n",
              "        if (!dataTable) return;\n",
              "\n",
              "        const docLinkHtml = 'Like what you see? Visit the ' +\n",
              "          '<a target=\"_blank\" href=https://colab.research.google.com/notebooks/data_table.ipynb>data table notebook</a>'\n",
              "          + ' to learn more about interactive tables.';\n",
              "        element.innerHTML = '';\n",
              "        dataTable['output_type'] = 'display_data';\n",
              "        await google.colab.output.renderOutput(dataTable, element);\n",
              "        const docLink = document.createElement('div');\n",
              "        docLink.innerHTML = docLinkHtml;\n",
              "        element.appendChild(docLink);\n",
              "      }\n",
              "    </script>\n",
              "  </div>\n",
              "\n",
              "\n",
              "    <div id=\"df-138b7bfe-916d-45e1-902a-3954393095d2\">\n",
              "      <button class=\"colab-df-quickchart\" onclick=\"quickchart('df-138b7bfe-916d-45e1-902a-3954393095d2')\"\n",
              "                title=\"Suggest charts\"\n",
              "                style=\"display:none;\">\n",
              "\n",
              "<svg xmlns=\"http://www.w3.org/2000/svg\" height=\"24px\"viewBox=\"0 0 24 24\"\n",
              "     width=\"24px\">\n",
              "    <g>\n",
              "        <path d=\"M19 3H5c-1.1 0-2 .9-2 2v14c0 1.1.9 2 2 2h14c1.1 0 2-.9 2-2V5c0-1.1-.9-2-2-2zM9 17H7v-7h2v7zm4 0h-2V7h2v10zm4 0h-2v-4h2v4z\"/>\n",
              "    </g>\n",
              "</svg>\n",
              "      </button>\n",
              "\n",
              "<style>\n",
              "  .colab-df-quickchart {\n",
              "      --bg-color: #E8F0FE;\n",
              "      --fill-color: #1967D2;\n",
              "      --hover-bg-color: #E2EBFA;\n",
              "      --hover-fill-color: #174EA6;\n",
              "      --disabled-fill-color: #AAA;\n",
              "      --disabled-bg-color: #DDD;\n",
              "  }\n",
              "\n",
              "  [theme=dark] .colab-df-quickchart {\n",
              "      --bg-color: #3B4455;\n",
              "      --fill-color: #D2E3FC;\n",
              "      --hover-bg-color: #434B5C;\n",
              "      --hover-fill-color: #FFFFFF;\n",
              "      --disabled-bg-color: #3B4455;\n",
              "      --disabled-fill-color: #666;\n",
              "  }\n",
              "\n",
              "  .colab-df-quickchart {\n",
              "    background-color: var(--bg-color);\n",
              "    border: none;\n",
              "    border-radius: 50%;\n",
              "    cursor: pointer;\n",
              "    display: none;\n",
              "    fill: var(--fill-color);\n",
              "    height: 32px;\n",
              "    padding: 0;\n",
              "    width: 32px;\n",
              "  }\n",
              "\n",
              "  .colab-df-quickchart:hover {\n",
              "    background-color: var(--hover-bg-color);\n",
              "    box-shadow: 0 1px 2px rgba(60, 64, 67, 0.3), 0 1px 3px 1px rgba(60, 64, 67, 0.15);\n",
              "    fill: var(--button-hover-fill-color);\n",
              "  }\n",
              "\n",
              "  .colab-df-quickchart-complete:disabled,\n",
              "  .colab-df-quickchart-complete:disabled:hover {\n",
              "    background-color: var(--disabled-bg-color);\n",
              "    fill: var(--disabled-fill-color);\n",
              "    box-shadow: none;\n",
              "  }\n",
              "\n",
              "  .colab-df-spinner {\n",
              "    border: 2px solid var(--fill-color);\n",
              "    border-color: transparent;\n",
              "    border-bottom-color: var(--fill-color);\n",
              "    animation:\n",
              "      spin 1s steps(1) infinite;\n",
              "  }\n",
              "\n",
              "  @keyframes spin {\n",
              "    0% {\n",
              "      border-color: transparent;\n",
              "      border-bottom-color: var(--fill-color);\n",
              "      border-left-color: var(--fill-color);\n",
              "    }\n",
              "    20% {\n",
              "      border-color: transparent;\n",
              "      border-left-color: var(--fill-color);\n",
              "      border-top-color: var(--fill-color);\n",
              "    }\n",
              "    30% {\n",
              "      border-color: transparent;\n",
              "      border-left-color: var(--fill-color);\n",
              "      border-top-color: var(--fill-color);\n",
              "      border-right-color: var(--fill-color);\n",
              "    }\n",
              "    40% {\n",
              "      border-color: transparent;\n",
              "      border-right-color: var(--fill-color);\n",
              "      border-top-color: var(--fill-color);\n",
              "    }\n",
              "    60% {\n",
              "      border-color: transparent;\n",
              "      border-right-color: var(--fill-color);\n",
              "    }\n",
              "    80% {\n",
              "      border-color: transparent;\n",
              "      border-right-color: var(--fill-color);\n",
              "      border-bottom-color: var(--fill-color);\n",
              "    }\n",
              "    90% {\n",
              "      border-color: transparent;\n",
              "      border-bottom-color: var(--fill-color);\n",
              "    }\n",
              "  }\n",
              "</style>\n",
              "\n",
              "      <script>\n",
              "        async function quickchart(key) {\n",
              "          const quickchartButtonEl =\n",
              "            document.querySelector('#' + key + ' button');\n",
              "          quickchartButtonEl.disabled = true;  // To prevent multiple clicks.\n",
              "          quickchartButtonEl.classList.add('colab-df-spinner');\n",
              "          try {\n",
              "            const charts = await google.colab.kernel.invokeFunction(\n",
              "                'suggestCharts', [key], {});\n",
              "          } catch (error) {\n",
              "            console.error('Error during call to suggestCharts:', error);\n",
              "          }\n",
              "          quickchartButtonEl.classList.remove('colab-df-spinner');\n",
              "          quickchartButtonEl.classList.add('colab-df-quickchart-complete');\n",
              "        }\n",
              "        (() => {\n",
              "          let quickchartButtonEl =\n",
              "            document.querySelector('#df-138b7bfe-916d-45e1-902a-3954393095d2 button');\n",
              "          quickchartButtonEl.style.display =\n",
              "            google.colab.kernel.accessAllowed ? 'block' : 'none';\n",
              "        })();\n",
              "      </script>\n",
              "    </div>\n",
              "\n",
              "    </div>\n",
              "  </div>\n"
            ],
            "text/plain": [
              "                                                 url     label  \\\n",
              "0                            http://babearchives.com    benign   \n",
              "1                        http://timeline.antunes.dev    benign   \n",
              "2  http://3md6bdtvo62lvedxjxiu7f2jkzbwab.1qw2es2z...  phishing   \n",
              "3  https://www36.55.56.89.30.50.26.92.68.80.36.64...  phishing   \n",
              "4             http://271h0ir.xcoysf.cn/adidas-me/css  phishing   \n",
              "\n",
              "           first_seen  \n",
              "0 2019-02-11 22:52:00  \n",
              "1 2021-09-29 14:54:27  \n",
              "2 2022-08-07 07:30:11  \n",
              "3 2021-11-20 16:51:02  \n",
              "4 2021-07-01 13:44:19  "
            ]
          },
          "execution_count": 7,
          "metadata": {},
          "output_type": "execute_result"
        }
      ],
      "source": [
        "from pathlib import Path\n",
        "\n",
        "data_dir = Path('/content/urls_without_dns')\n",
        "all_parts = [data_dir / f'part-{i:05d}.parquet' for i in range(0, 35)]\n",
        "\n",
        "files = [p for p in all_parts if p.exists()]\n",
        "\n",
        "df_data = pd.concat((pd.read_parquet(f) for f in files), ignore_index=True)\n",
        "\n",
        "print(f\"Found {len(files)} parts → combined df has {df_data.shape[0]} rows × {df_data.shape[1]} cols\")\n",
        "df_data.head()"
      ]
    },
    {
      "cell_type": "code",
      "execution_count": null,
      "metadata": {
        "id": "tXo-aVjZlA1k"
      },
      "outputs": [],
      "source": [
        "df_data.loc[df_data[\"label\"] == \"benign\", \"status\"] = 0\n",
        "df_data.loc[df_data[\"label\"] == \"phishing\", \"status\"] = 1\n",
        "df_data = df_data[df_data[\"status\"].isin([0, 1])]"
      ]
    },
    {
      "cell_type": "markdown",
      "metadata": {
        "id": "_DMC0WZ6iz4H"
      },
      "source": [
        "## Processing"
      ]
    },
    {
      "cell_type": "markdown",
      "metadata": {
        "id": "W6OVSPFki1hJ"
      },
      "source": [
        "## Build Dataset"
      ]
    },
    {
      "cell_type": "code",
      "execution_count": null,
      "metadata": {
        "colab": {
          "base_uri": "https://localhost:8080/"
        },
        "id": "uDDOM758rjoJ",
        "outputId": "5d68296b-9e91-4bfb-ce2b-63c22e5a03e9"
      },
      "outputs": [
        {
          "data": {
            "text/plain": [
              "((9265925, 16), (9265925,))"
            ]
          },
          "execution_count": 9,
          "metadata": {},
          "output_type": "execute_result"
        }
      ],
      "source": [
        "df_data = df_data.drop_duplicates(subset=['url'])\n",
        "X, y = build_dataset(df_data)\n",
        "\n",
        "X.shape, y.shape"
      ]
    },
    {
      "cell_type": "code",
      "execution_count": null,
      "metadata": {
        "id": "PUDEEtsjrTsU"
      },
      "outputs": [],
      "source": [
        "X_train, X_test, y_train, y_test = train_test_split(X, y, test_size=0.2, random_state=42)"
      ]
    },
    {
      "cell_type": "code",
      "execution_count": null,
      "metadata": {
        "colab": {
          "base_uri": "https://localhost:8080/"
        },
        "id": "tsfZEQJ-pwmc",
        "outputId": "be6cb6e1-9af7-4899-c64f-0f56c04f1194"
      },
      "outputs": [
        {
          "name": "stdout",
          "output_type": "stream",
          "text": [
            "X_train shape: (7412740, 16)\n",
            "y_train shape: (7412740,)\n",
            "X_test shape: (1853185, 16)\n",
            "y_test shape: (1853185,)\n"
          ]
        }
      ],
      "source": [
        "print(\"X_train shape:\", X_train.shape)\n",
        "print(\"y_train shape:\", y_train.shape)\n",
        "print(\"X_test shape:\", X_test.shape)\n",
        "print(\"y_test shape:\", y_test.shape)"
      ]
    },
    {
      "cell_type": "markdown",
      "metadata": {
        "id": "_Io7ApdVpClD"
      },
      "source": [
        "### Correlation"
      ]
    },
    {
      "cell_type": "code",
      "execution_count": null,
      "metadata": {
        "colab": {
          "base_uri": "https://localhost:8080/",
          "height": 505
        },
        "id": "EtNEPaFOrgvK",
        "outputId": "2b9599f6-bf43-4a8f-c975-85fe36dcd1ad"
      },
      "outputs": [
        {
          "data": {
            "image/png": "[encoded data removed]",
            "text/plain": [
              "<Figure size 480x480 with 2 Axes>"
            ]
          },
          "metadata": {},
          "output_type": "display_data"
        }
      ],
      "source": [
        "fig = plt.figure(figsize=(6,6), dpi=80)\n",
        "corr_df = pd.DataFrame(X_train)\n",
        "\n",
        "corr_df.columns = [\n",
        "    'url_length',\n",
        "    'subdomain_length',\n",
        "    'main_domain_length',\n",
        "    'dot_count',\n",
        "    'hyphen_count',\n",
        "    'is_https',\n",
        "    'path_length',\n",
        "    'url_path_depth',\n",
        "    'digit_count',\n",
        "    'token_count',\n",
        "    'encoded_char_count',\n",
        "    'has_shortening_service',\n",
        "    'subdomain_count',\n",
        "    'uncommon_tld',\n",
        "    'has_suspicious_words',\n",
        "    'contains_brand_name'\n",
        "]\n",
        "\n",
        "corr_matrix = corr_df.corr()\n",
        "mask = np.triu(np.ones_like(corr_matrix, dtype=bool))\n",
        "sns.heatmap(corr_matrix, mask=mask, cmap='BuPu', robust=True, center=0,\n",
        "            square=True, linewidths=.5)\n",
        "plt.title('Correlation Heatmap')\n",
        "plt.show()\n"
      ]
    },
    {
      "cell_type": "markdown",
      "metadata": {
        "id": "fd4sEfi3hO80"
      },
      "source": [
        "## Model"
      ]
    },
    {
      "cell_type": "code",
      "execution_count": null,
      "metadata": {
        "colab": {
          "base_uri": "https://localhost:8080/",
          "height": 257
        },
        "id": "lNJS2PaYRvHM",
        "outputId": "7b39cfea-0173-4d91-eed2-dc43b0e06a84"
      },
      "outputs": [
        {
          "data": {
            "text/html": [
              "<pre style=\"white-space:pre;overflow-x:auto;line-height:normal;font-family:Menlo,'DejaVu Sans Mono',consolas,'Courier New',monospace\"><span style=\"font-weight: bold\">Model: \"sequential\"</span>\n",
              "</pre>\n"
            ],
            "text/plain": [
              "\u001b[1mModel: \"sequential\"\u001b[0m\n"
            ]
          },
          "metadata": {},
          "output_type": "display_data"
        },
        {
          "data": {
            "text/html": [
              "<pre style=\"white-space:pre;overflow-x:auto;line-height:normal;font-family:Menlo,'DejaVu Sans Mono',consolas,'Courier New',monospace\">┏━━━━━━━━━━━━━━━━━━━━━━━━━━━━━━━━━┳━━━━━━━━━━━━━━━━━━━━━━━━┳━━━━━━━━━━━━━━━┓\n",
              "┃<span style=\"font-weight: bold\"> Layer (type)                    </span>┃<span style=\"font-weight: bold\"> Output Shape           </span>┃<span style=\"font-weight: bold\">       Param # </span>┃\n",
              "┡━━━━━━━━━━━━━━━━━━━━━━━━━━━━━━━━━╇━━━━━━━━━━━━━━━━━━━━━━━━╇━━━━━━━━━━━━━━━┩\n",
              "│ normalization (<span style=\"color: #0087ff; text-decoration-color: #0087ff\">Normalization</span>)   │ (<span style=\"color: #00d7ff; text-decoration-color: #00d7ff\">None</span>, <span style=\"color: #00af00; text-decoration-color: #00af00\">16</span>)             │            <span style=\"color: #00af00; text-decoration-color: #00af00\">33</span> │\n",
              "├─────────────────────────────────┼────────────────────────┼───────────────┤\n",
              "│ dense (<span style=\"color: #0087ff; text-decoration-color: #0087ff\">Dense</span>)                   │ (<span style=\"color: #00d7ff; text-decoration-color: #00d7ff\">None</span>, <span style=\"color: #00af00; text-decoration-color: #00af00\">64</span>)             │         <span style=\"color: #00af00; text-decoration-color: #00af00\">1,088</span> │\n",
              "├─────────────────────────────────┼────────────────────────┼───────────────┤\n",
              "│ dense_1 (<span style=\"color: #0087ff; text-decoration-color: #0087ff\">Dense</span>)                 │ (<span style=\"color: #00d7ff; text-decoration-color: #00d7ff\">None</span>, <span style=\"color: #00af00; text-decoration-color: #00af00\">32</span>)             │         <span style=\"color: #00af00; text-decoration-color: #00af00\">2,080</span> │\n",
              "├─────────────────────────────────┼────────────────────────┼───────────────┤\n",
              "│ dense_2 (<span style=\"color: #0087ff; text-decoration-color: #0087ff\">Dense</span>)                 │ (<span style=\"color: #00d7ff; text-decoration-color: #00d7ff\">None</span>, <span style=\"color: #00af00; text-decoration-color: #00af00\">1</span>)              │            <span style=\"color: #00af00; text-decoration-color: #00af00\">33</span> │\n",
              "└─────────────────────────────────┴────────────────────────┴───────────────┘\n",
              "</pre>\n"
            ],
            "text/plain": [
              "┏━━━━━━━━━━━━━━━━━━━━━━━━━━━━━━━━━┳━━━━━━━━━━━━━━━━━━━━━━━━┳━━━━━━━━━━━━━━━┓\n",
              "┃\u001b[1m \u001b[0m\u001b[1mLayer (type)                   \u001b[0m\u001b[1m \u001b[0m┃\u001b[1m \u001b[0m\u001b[1mOutput Shape          \u001b[0m\u001b[1m \u001b[0m┃\u001b[1m \u001b[0m\u001b[1m      Param #\u001b[0m\u001b[1m \u001b[0m┃\n",
              "┡━━━━━━━━━━━━━━━━━━━━━━━━━━━━━━━━━╇━━━━━━━━━━━━━━━━━━━━━━━━╇━━━━━━━━━━━━━━━┩\n",
              "│ normalization (\u001b[38;5;33mNormalization\u001b[0m)   │ (\u001b[38;5;45mNone\u001b[0m, \u001b[38;5;34m16\u001b[0m)             │            \u001b[38;5;34m33\u001b[0m │\n",
              "├─────────────────────────────────┼────────────────────────┼───────────────┤\n",
              "│ dense (\u001b[38;5;33mDense\u001b[0m)                   │ (\u001b[38;5;45mNone\u001b[0m, \u001b[38;5;34m64\u001b[0m)             │         \u001b[38;5;34m1,088\u001b[0m │\n",
              "├─────────────────────────────────┼────────────────────────┼───────────────┤\n",
              "│ dense_1 (\u001b[38;5;33mDense\u001b[0m)                 │ (\u001b[38;5;45mNone\u001b[0m, \u001b[38;5;34m32\u001b[0m)             │         \u001b[38;5;34m2,080\u001b[0m │\n",
              "├─────────────────────────────────┼────────────────────────┼───────────────┤\n",
              "│ dense_2 (\u001b[38;5;33mDense\u001b[0m)                 │ (\u001b[38;5;45mNone\u001b[0m, \u001b[38;5;34m1\u001b[0m)              │            \u001b[38;5;34m33\u001b[0m │\n",
              "└─────────────────────────────────┴────────────────────────┴───────────────┘\n"
            ]
          },
          "metadata": {},
          "output_type": "display_data"
        },
        {
          "data": {
            "text/html": [
              "<pre style=\"white-space:pre;overflow-x:auto;line-height:normal;font-family:Menlo,'DejaVu Sans Mono',consolas,'Courier New',monospace\"><span style=\"font-weight: bold\"> Total params: </span><span style=\"color: #00af00; text-decoration-color: #00af00\">3,234</span> (12.64 KB)\n",
              "</pre>\n"
            ],
            "text/plain": [
              "\u001b[1m Total params: \u001b[0m\u001b[38;5;34m3,234\u001b[0m (12.64 KB)\n"
            ]
          },
          "metadata": {},
          "output_type": "display_data"
        },
        {
          "data": {
            "text/html": [
              "<pre style=\"white-space:pre;overflow-x:auto;line-height:normal;font-family:Menlo,'DejaVu Sans Mono',consolas,'Courier New',monospace\"><span style=\"font-weight: bold\"> Trainable params: </span><span style=\"color: #00af00; text-decoration-color: #00af00\">3,201</span> (12.50 KB)\n",
              "</pre>\n"
            ],
            "text/plain": [
              "\u001b[1m Trainable params: \u001b[0m\u001b[38;5;34m3,201\u001b[0m (12.50 KB)\n"
            ]
          },
          "metadata": {},
          "output_type": "display_data"
        },
        {
          "data": {
            "text/html": [
              "<pre style=\"white-space:pre;overflow-x:auto;line-height:normal;font-family:Menlo,'DejaVu Sans Mono',consolas,'Courier New',monospace\"><span style=\"font-weight: bold\"> Non-trainable params: </span><span style=\"color: #00af00; text-decoration-color: #00af00\">33</span> (136.00 B)\n",
              "</pre>\n"
            ],
            "text/plain": [
              "\u001b[1m Non-trainable params: \u001b[0m\u001b[38;5;34m33\u001b[0m (136.00 B)\n"
            ]
          },
          "metadata": {},
          "output_type": "display_data"
        }
      ],
      "source": [
        "normalizer = tf.keras.layers.Normalization(axis=-1)\n",
        "normalizer.adapt(X_train)\n",
        "\n",
        "model = tf.keras.Sequential([\n",
        "       tf.keras.layers.Input(shape=(X_train.shape[1],)),\n",
        "      normalizer,\n",
        "       tf.keras.layers.Dense(64, activation='relu'),\n",
        "       tf.keras.layers.Dense(32, activation='relu'),\n",
        "       tf.keras.layers.Dense(1, activation='sigmoid')\n",
        "   ])\n",
        "\n",
        "model.compile(optimizer='adam', loss='binary_crossentropy', metrics=['accuracy'])\n",
        "\n",
        "model.summary()"
      ]
    },
    {
      "cell_type": "markdown",
      "metadata": {
        "id": "McU3zDiMhKJ7"
      },
      "source": [
        "## Train"
      ]
    },
    {
      "cell_type": "code",
      "execution_count": null,
      "metadata": {
        "colab": {
          "base_uri": "https://localhost:8080/"
        },
        "id": "yhwud0MrhIO6",
        "outputId": "fa695e8d-8c94-4436-d524-bfb0f98681de"
      },
      "outputs": [
        {
          "name": "stdout",
          "output_type": "stream",
          "text": [
            "Epoch 1/25\n",
            "\u001b[1m14826/14826\u001b[0m \u001b[32m━━━━━━━━━━━━━━━━━━━━\u001b[0m\u001b[37m\u001b[0m \u001b[1m49s\u001b[0m 3ms/step - accuracy: 0.8941 - loss: 0.2631 - val_accuracy: 0.9045 - val_loss: 0.2384\n",
            "Epoch 2/25\n",
            "\u001b[1m14826/14826\u001b[0m \u001b[32m━━━━━━━━━━━━━━━━━━━━\u001b[0m\u001b[37m\u001b[0m \u001b[1m82s\u001b[0m 3ms/step - accuracy: 0.9048 - loss: 0.2365 - val_accuracy: 0.9072 - val_loss: 0.2312\n",
            "Epoch 3/25\n",
            "\u001b[1m14826/14826\u001b[0m \u001b[32m━━━━━━━━━━━━━━━━━━━━\u001b[0m\u001b[37m\u001b[0m \u001b[1m47s\u001b[0m 3ms/step - accuracy: 0.9071 - loss: 0.2309 - val_accuracy: 0.9079 - val_loss: 0.2290\n",
            "Epoch 4/25\n",
            "\u001b[1m14826/14826\u001b[0m \u001b[32m━━━━━━━━━━━━━━━━━━━━\u001b[0m\u001b[37m\u001b[0m \u001b[1m49s\u001b[0m 3ms/step - accuracy: 0.9082 - loss: 0.2279 - val_accuracy: 0.9087 - val_loss: 0.2272\n",
            "Epoch 5/25\n",
            "\u001b[1m14826/14826\u001b[0m \u001b[32m━━━━━━━━━━━━━━━━━━━━\u001b[0m\u001b[37m\u001b[0m \u001b[1m83s\u001b[0m 3ms/step - accuracy: 0.9092 - loss: 0.2260 - val_accuracy: 0.9105 - val_loss: 0.2243\n",
            "Epoch 6/25\n",
            "\u001b[1m14826/14826\u001b[0m \u001b[32m━━━━━━━━━━━━━━━━━━━━\u001b[0m\u001b[37m\u001b[0m \u001b[1m49s\u001b[0m 3ms/step - accuracy: 0.9101 - loss: 0.2241 - val_accuracy: 0.9103 - val_loss: 0.2233\n",
            "Epoch 7/25\n",
            "\u001b[1m14826/14826\u001b[0m \u001b[32m━━━━━━━━━━━━━━━━━━━━\u001b[0m\u001b[37m\u001b[0m \u001b[1m85s\u001b[0m 3ms/step - accuracy: 0.9107 - loss: 0.2228 - val_accuracy: 0.9113 - val_loss: 0.2223\n",
            "Epoch 8/25\n",
            "\u001b[1m14826/14826\u001b[0m \u001b[32m━━━━━━━━━━━━━━━━━━━━\u001b[0m\u001b[37m\u001b[0m \u001b[1m53s\u001b[0m 3ms/step - accuracy: 0.9112 - loss: 0.2219 - val_accuracy: 0.9098 - val_loss: 0.2225\n",
            "Epoch 9/25\n",
            "\u001b[1m14826/14826\u001b[0m \u001b[32m━━━━━━━━━━━━━━━━━━━━\u001b[0m\u001b[37m\u001b[0m \u001b[1m79s\u001b[0m 3ms/step - accuracy: 0.9117 - loss: 0.2211 - val_accuracy: 0.9120 - val_loss: 0.2202\n",
            "Epoch 10/25\n",
            "\u001b[1m14826/14826\u001b[0m \u001b[32m━━━━━━━━━━━━━━━━━━━━\u001b[0m\u001b[37m\u001b[0m \u001b[1m49s\u001b[0m 3ms/step - accuracy: 0.9121 - loss: 0.2202 - val_accuracy: 0.9118 - val_loss: 0.2213\n",
            "Epoch 11/25\n",
            "\u001b[1m14826/14826\u001b[0m \u001b[32m━━━━━━━━━━━━━━━━━━━━\u001b[0m\u001b[37m\u001b[0m \u001b[1m52s\u001b[0m 3ms/step - accuracy: 0.9122 - loss: 0.2197 - val_accuracy: 0.9128 - val_loss: 0.2189\n",
            "Epoch 12/25\n",
            "\u001b[1m14826/14826\u001b[0m \u001b[32m━━━━━━━━━━━━━━━━━━━━\u001b[0m\u001b[37m\u001b[0m \u001b[1m78s\u001b[0m 3ms/step - accuracy: 0.9126 - loss: 0.2189 - val_accuracy: 0.9128 - val_loss: 0.2190\n",
            "Epoch 13/25\n",
            "\u001b[1m14826/14826\u001b[0m \u001b[32m━━━━━━━━━━━━━━━━━━━━\u001b[0m\u001b[37m\u001b[0m \u001b[1m48s\u001b[0m 3ms/step - accuracy: 0.9128 - loss: 0.2184 - val_accuracy: 0.9130 - val_loss: 0.2177\n",
            "Epoch 14/25\n",
            "\u001b[1m14826/14826\u001b[0m \u001b[32m━━━━━━━━━━━━━━━━━━━━\u001b[0m\u001b[37m\u001b[0m \u001b[1m83s\u001b[0m 3ms/step - accuracy: 0.9132 - loss: 0.2179 - val_accuracy: 0.9132 - val_loss: 0.2179\n",
            "Epoch 15/25\n",
            "\u001b[1m14826/14826\u001b[0m \u001b[32m━━━━━━━━━━━━━━━━━━━━\u001b[0m\u001b[37m\u001b[0m \u001b[1m52s\u001b[0m 3ms/step - accuracy: 0.9133 - loss: 0.2175 - val_accuracy: 0.9127 - val_loss: 0.2185\n",
            "Epoch 16/25\n",
            "\u001b[1m14826/14826\u001b[0m \u001b[32m━━━━━━━━━━━━━━━━━━━━\u001b[0m\u001b[37m\u001b[0m \u001b[1m79s\u001b[0m 3ms/step - accuracy: 0.9135 - loss: 0.2170 - val_accuracy: 0.9136 - val_loss: 0.2174\n",
            "Epoch 17/25\n",
            "\u001b[1m14826/14826\u001b[0m \u001b[32m━━━━━━━━━━━━━━━━━━━━\u001b[0m\u001b[37m\u001b[0m \u001b[1m86s\u001b[0m 4ms/step - accuracy: 0.9136 - loss: 0.2168 - val_accuracy: 0.9135 - val_loss: 0.2167\n",
            "Epoch 18/25\n",
            "\u001b[1m14826/14826\u001b[0m \u001b[32m━━━━━━━━━━━━━━━━━━━━\u001b[0m\u001b[37m\u001b[0m \u001b[1m49s\u001b[0m 3ms/step - accuracy: 0.9137 - loss: 0.2164 - val_accuracy: 0.9136 - val_loss: 0.2174\n",
            "Epoch 19/25\n",
            "\u001b[1m14826/14826\u001b[0m \u001b[32m━━━━━━━━━━━━━━━━━━━━\u001b[0m\u001b[37m\u001b[0m \u001b[1m83s\u001b[0m 3ms/step - accuracy: 0.9139 - loss: 0.2158 - val_accuracy: 0.9141 - val_loss: 0.2164\n",
            "Epoch 20/25\n",
            "\u001b[1m14826/14826\u001b[0m \u001b[32m━━━━━━━━━━━━━━━━━━━━\u001b[0m\u001b[37m\u001b[0m \u001b[1m55s\u001b[0m 4ms/step - accuracy: 0.9140 - loss: 0.2156 - val_accuracy: 0.9136 - val_loss: 0.2165\n",
            "Epoch 21/25\n",
            "\u001b[1m14826/14826\u001b[0m \u001b[32m━━━━━━━━━━━━━━━━━━━━\u001b[0m\u001b[37m\u001b[0m \u001b[1m79s\u001b[0m 3ms/step - accuracy: 0.9142 - loss: 0.2151 - val_accuracy: 0.9136 - val_loss: 0.2171\n",
            "Epoch 22/25\n",
            "\u001b[1m14826/14826\u001b[0m \u001b[32m━━━━━━━━━━━━━━━━━━━━\u001b[0m\u001b[37m\u001b[0m \u001b[1m82s\u001b[0m 3ms/step - accuracy: 0.9142 - loss: 0.2154 - val_accuracy: 0.9144 - val_loss: 0.2150\n",
            "Epoch 23/25\n",
            "\u001b[1m14826/14826\u001b[0m \u001b[32m━━━━━━━━━━━━━━━━━━━━\u001b[0m\u001b[37m\u001b[0m \u001b[1m80s\u001b[0m 3ms/step - accuracy: 0.9144 - loss: 0.2148 - val_accuracy: 0.9139 - val_loss: 0.2151\n",
            "Epoch 24/25\n",
            "\u001b[1m14826/14826\u001b[0m \u001b[32m━━━━━━━━━━━━━━━━━━━━\u001b[0m\u001b[37m\u001b[0m \u001b[1m51s\u001b[0m 3ms/step - accuracy: 0.9145 - loss: 0.2147 - val_accuracy: 0.9135 - val_loss: 0.2168\n",
            "Epoch 25/25\n",
            "\u001b[1m14826/14826\u001b[0m \u001b[32m━━━━━━━━━━━━━━━━━━━━\u001b[0m\u001b[37m\u001b[0m \u001b[1m50s\u001b[0m 3ms/step - accuracy: 0.9145 - loss: 0.2144 - val_accuracy: 0.9144 - val_loss: 0.2158\n"
          ]
        }
      ],
      "source": [
        "history = model.fit(X_train, y_train, validation_data=(X_test, y_test), epochs=25, batch_size=500)"
      ]
    },
    {
      "cell_type": "markdown",
      "metadata": {
        "id": "adLM3avohGH9"
      },
      "source": [
        "## Evaluation"
      ]
    },
    {
      "cell_type": "code",
      "execution_count": null,
      "metadata": {
        "colab": {
          "base_uri": "https://localhost:8080/",
          "height": 472
        },
        "id": "uWvQ-ZaUA5OH",
        "outputId": "d278bbf5-2962-4290-ed76-8f509087f715"
      },
      "outputs": [
        {
          "data": {
            "image/png": "[encoded data removed]",
            "text/plain": [
              "<Figure size 640x480 with 1 Axes>"
            ]
          },
          "metadata": {},
          "output_type": "display_data"
        }
      ],
      "source": [
        "plt.plot(history.history['loss'])\n",
        "plt.plot(history.history['val_loss'])\n",
        "plt.title('model loss')\n",
        "plt.ylabel('loss')\n",
        "plt.xlabel('epoch')\n",
        "plt.legend(['train', 'val'], loc='upper left')\n",
        "plt.show()"
      ]
    },
    {
      "cell_type": "code",
      "execution_count": null,
      "metadata": {
        "colab": {
          "base_uri": "https://localhost:8080/",
          "height": 472
        },
        "id": "152CuSytAk_k",
        "outputId": "e81d634d-b522-408d-b036-d5934c53931d"
      },
      "outputs": [
        {
          "data": {
            "image/png": "[encoded data removed]",
            "text/plain": [
              "<Figure size 640x480 with 1 Axes>"
            ]
          },
          "metadata": {},
          "output_type": "display_data"
        }
      ],
      "source": [
        "plt.plot(history.history['accuracy'])\n",
        "plt.plot(history.history['val_accuracy'])\n",
        "plt.title('model accuracy')\n",
        "plt.ylabel('accuracy')\n",
        "plt.xlabel('epoch')\n",
        "plt.legend(['train', 'val'], loc='upper left')\n",
        "plt.show()"
      ]
    },
    {
      "cell_type": "code",
      "execution_count": null,
      "metadata": {
        "colab": {
          "base_uri": "https://localhost:8080/"
        },
        "id": "YEMCkbm1lhap",
        "outputId": "5acf73d0-bd79-4292-ea8d-f27ccca40a30"
      },
      "outputs": [
        {
          "name": "stdout",
          "output_type": "stream",
          "text": [
            "\u001b[1m57913/57913\u001b[0m \u001b[32m━━━━━━━━━━━━━━━━━━━━\u001b[0m\u001b[37m\u001b[0m \u001b[1m75s\u001b[0m 1ms/step\n",
            "              precision    recall  f1-score   support\n",
            "\n",
            "           0       0.93      0.92      0.93   1201397\n",
            "           1       0.86      0.87      0.87    651788\n",
            "\n",
            "    accuracy                           0.91   1853185\n",
            "   macro avg       0.90      0.90      0.90   1853185\n",
            "weighted avg       0.91      0.91      0.91   1853185\n",
            "\n"
          ]
        }
      ],
      "source": [
        "y_pred = model.predict(X_test)\n",
        "y_pred = (y_pred > 0.33).astype(int)\n",
        "print(classification_report(y_test, y_pred))"
      ]
    },
    {
      "cell_type": "code",
      "execution_count": null,
      "metadata": {
        "colab": {
          "base_uri": "https://localhost:8080/",
          "height": 507
        },
        "id": "Q8gAUMpKcTzB",
        "outputId": "bc40c7e6-9a81-4aae-af12-eef7c8e35555"
      },
      "outputs": [
        {
          "name": "stdout",
          "output_type": "stream",
          "text": [
            "\u001b[1m289561/289561\u001b[0m \u001b[32m━━━━━━━━━━━━━━━━━━━━\u001b[0m\u001b[37m\u001b[0m \u001b[1m377s\u001b[0m 1ms/step\n",
            "Best threshold: 0.3268\n"
          ]
        },
        {
          "data": {
            "image/png": "[encoded data removed]",
            "text/plain": [
              "<Figure size 640x480 with 1 Axes>"
            ]
          },
          "metadata": {},
          "output_type": "display_data"
        }
      ],
      "source": [
        "y_pred_prob = model.predict(X).ravel()\n",
        "\n",
        "from sklearn.metrics import roc_curve, auc\n",
        "\n",
        "fpr, tpr, thresholds = roc_curve(y, y_pred_prob)\n",
        "roc_auc = auc(fpr, tpr)\n",
        "\n",
        "import numpy as np\n",
        "\n",
        "j_scores = tpr - fpr\n",
        "best_index = np.argmax(j_scores)\n",
        "best_threshold = thresholds[best_index]\n",
        "\n",
        "print(f\"Best threshold: {best_threshold:.4f}\")\n",
        "\n",
        "\n",
        "import matplotlib.pyplot as plt\n",
        "\n",
        "plt.figure()\n",
        "plt.plot(fpr, tpr, label=f\"ROC curve (area = {roc_auc:.2f})\")\n",
        "plt.plot([0, 1], [0, 1], 'k--', label=\"Random classifier\")\n",
        "plt.scatter(fpr[best_index], tpr[best_index], color='red', label=f\"Best threshold = {best_threshold:.2f}\")\n",
        "plt.xlabel(\"False Positive Rate\")\n",
        "plt.ylabel(\"True Positive Rate\")\n",
        "plt.title(\"Receiver Operating Characteristic\")\n",
        "plt.legend(loc=\"lower right\")\n",
        "plt.grid()\n",
        "plt.show()\n"
      ]
    },
    {
      "cell_type": "markdown",
      "metadata": {
        "id": "wUiIDjS-2PSt"
      },
      "source": [
        "## Export"
      ]
    },
    {
      "cell_type": "markdown",
      "metadata": {
        "id": "9hSfqp7fhAR7"
      },
      "source": [
        "Save model in TensorFlow format"
      ]
    },
    {
      "cell_type": "code",
      "execution_count": null,
      "metadata": {
        "colab": {
          "base_uri": "https://localhost:8080/"
        },
        "id": "qx-LdgqBg_go",
        "outputId": "92f4eda6-f34a-46f1-ebd6-6ce7a2ffa9af"
      },
      "outputs": [
        {
          "name": "stdout",
          "output_type": "stream",
          "text": [
            "Saved artifact at 'url_model_tf'. The following endpoints are available:\n",
            "\n",
            "* Endpoint 'serve'\n",
            "  args_0 (POSITIONAL_ONLY): TensorSpec(shape=(None, 16), dtype=tf.float32, name='keras_tensor_5')\n",
            "Output Type:\n",
            "  TensorSpec(shape=(None, 1), dtype=tf.float32, name=None)\n",
            "Captures:\n",
            "  136407921141968: TensorSpec(shape=(1, 16), dtype=tf.float32, name=None)\n",
            "  136407921135056: TensorSpec(shape=(1, 16), dtype=tf.float32, name=None)\n",
            "  136415318494288: TensorSpec(shape=(), dtype=tf.resource, name=None)\n",
            "  136407921139472: TensorSpec(shape=(), dtype=tf.resource, name=None)\n",
            "  136407921141584: TensorSpec(shape=(), dtype=tf.resource, name=None)\n",
            "  136407921140624: TensorSpec(shape=(), dtype=tf.resource, name=None)\n",
            "  136407921195920: TensorSpec(shape=(), dtype=tf.resource, name=None)\n",
            "  136407921195728: TensorSpec(shape=(), dtype=tf.resource, name=None)\n"
          ]
        }
      ],
      "source": [
        "model.export(\"url_model_tf\")"
      ]
    },
    {
      "cell_type": "markdown",
      "metadata": {
        "id": "J9ZqFlS7g8Gt"
      },
      "source": [
        "Convert to TensorFlow.js format"
      ]
    },
    {
      "cell_type": "code",
      "execution_count": null,
      "metadata": {
        "colab": {
          "base_uri": "https://localhost:8080/"
        },
        "id": "8a8t6oBNQh9A",
        "outputId": "afd32844-972e-4aa1-efa5-0c4cda7abece"
      },
      "outputs": [
        {
          "name": "stdout",
          "output_type": "stream",
          "text": [
            "2025-05-01 20:59:02.676821: E external/local_xla/xla/stream_executor/cuda/cuda_fft.cc:477] Unable to register cuFFT factory: Attempting to register factory for plugin cuFFT when one has already been registered\n",
            "WARNING: All log messages before absl::InitializeLog() is called are written to STDERR\n",
            "E0000 00:00:1746133142.766614   26910 cuda_dnn.cc:8310] Unable to register cuDNN factory: Attempting to register factory for plugin cuDNN when one has already been registered\n",
            "E0000 00:00:1746133142.786384   26910 cuda_blas.cc:1418] Unable to register cuBLAS factory: Attempting to register factory for plugin cuBLAS when one has already been registered\n",
            "\u001b[32m🌲 Try \u001b[0m\u001b[34mhttps://ydf.readthedocs.io\u001b[0m\u001b[32m, the successor of TensorFlow Decision Forests with more features and faster training!\u001b[0m\n",
            "2025-05-01 20:59:11.348737: E external/local_xla/xla/stream_executor/cuda/cuda_driver.cc:152] failed call to cuInit: INTERNAL: CUDA error: Failed call to cuInit: UNKNOWN ERROR (303)\n",
            "I0000 00:00:1746133151.449528   26910 devices.cc:67] Number of eligible GPUs (core count >= 8, compute capability >= 0.0): 0\n",
            "WARNING: All log messages before absl::InitializeLog() is called are written to STDERR\n",
            "I0000 00:00:1746133151.449767   26910 single_machine.cc:361] Starting new session\n"
          ]
        }
      ],
      "source": [
        "!tensorflowjs_converter --input_format=tf_saved_model url_model_tf ./tfjs_url_model"
      ]
    },
    {
      "cell_type": "code",
      "execution_count": null,
      "metadata": {
        "id": "yVeYb8xXS8jS"
      },
      "outputs": [],
      "source": [
        "# !rm -rf url_model_tf tfjs_url_model model"
      ]
    }
  ],
  "metadata": {
    "colab": {
      "provenance": []
    },
    "kernelspec": {
      "display_name": "Python 3",
      "name": "python3"
    },
    "language_info": {
      "name": "python"
    }
  },
  "nbformat": 4,
  "nbformat_minor": 0
}
